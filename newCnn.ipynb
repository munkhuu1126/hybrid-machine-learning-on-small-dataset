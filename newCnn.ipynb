{
 "cells": [
  {
   "cell_type": "code",
   "execution_count": 1,
   "metadata": {},
   "outputs": [
    {
     "name": "stderr",
     "output_type": "stream",
     "text": [
      "/home/erik/.local/lib/python3.10/site-packages/tqdm/auto.py:22: TqdmWarning: IProgress not found. Please update jupyter and ipywidgets. See https://ipywidgets.readthedocs.io/en/stable/user_install.html\n",
      "  from .autonotebook import tqdm as notebook_tqdm\n"
     ]
    }
   ],
   "source": [
    "import torch\n",
    "from torch import nn\n",
    "from torch.utils.data import DataLoader\n",
    "from torchvision import datasets\n",
    "from torchvision.transforms import ToTensor"
   ]
  },
  {
   "cell_type": "code",
   "execution_count": 2,
   "metadata": {},
   "outputs": [],
   "source": [
    "training_data= datasets.FashionMNIST(\n",
    "    root=\"data\",\n",
    "    train=True,\n",
    "    download=True,\n",
    "    transform=ToTensor()\n",
    "    )\n",
    "test_data = datasets.FashionMNIST(\n",
    "    root=\"data\",\n",
    "    train=False,\n",
    "    download=True,\n",
    "    transform=ToTensor()\n",
    ")\n",
    "train_data1, train_data2 = torch.utils.data.random_split(training_data, [30000, 30000])\n"
   ]
  },
  {
   "cell_type": "code",
   "execution_count": 3,
   "metadata": {},
   "outputs": [
    {
     "name": "stdout",
     "output_type": "stream",
     "text": [
      "Shape of X [N,C,W,H]: torch.Size([64, 1, 28, 28])\n",
      "Shape of y: torch.Size([64]) \n"
     ]
    }
   ],
   "source": [
    "batch_size = 64\n",
    "train_dataloader1 = DataLoader(train_data1, batch_size=batch_size)\n",
    "train_dataloader2 = DataLoader(train_data2, batch_size=batch_size)\n",
    "train_dataloader = DataLoader(training_data, batch_size=batch_size)\n",
    "test_dataloader = DataLoader(test_data, batch_size=batch_size)\n",
    "for X,y in train_dataloader1:\n",
    "    print(f\"Shape of X [N,C,W,H]: {X.shape}\")\n",
    "    print(f\"Shape of y: {y.shape} \")\n",
    "    break"
   ]
  },
  {
   "cell_type": "code",
   "execution_count": 4,
   "metadata": {},
   "outputs": [
    {
     "name": "stdout",
     "output_type": "stream",
     "text": [
      "cuda\n"
     ]
    }
   ],
   "source": [
    "device = \"cuda\" if torch.cuda.is_available() else \"mps\" if torch.backends.mps.is_available() else \"cpu\"\n",
    "print(device)"
   ]
  },
  {
   "cell_type": "code",
   "execution_count": 14,
   "metadata": {},
   "outputs": [
    {
     "name": "stdout",
     "output_type": "stream",
     "text": [
      "NeuralNetwork(\n",
      "  (flatten): Flatten(start_dim=1, end_dim=-1)\n",
      "  (linear_relu_stack): Sequential(\n",
      "    (0): Linear(in_features=784, out_features=512, bias=True)\n",
      "    (1): ReLU()\n",
      "    (2): Linear(in_features=512, out_features=512, bias=True)\n",
      "    (3): ReLU()\n",
      "    (4): Linear(in_features=512, out_features=10, bias=True)\n",
      "  )\n",
      ")\n"
     ]
    }
   ],
   "source": [
    "class NeuralNetwork(nn.Module):\n",
    "    def __init__(self):\n",
    "        super().__init__()\n",
    "        self.flatten = nn.Flatten()\n",
    "        self.linear_relu_stack = nn.Sequential(\n",
    "            nn.Linear(28*28, 512),\n",
    "            nn.ReLU(),\n",
    "            nn.Linear(512, 512),\n",
    "            nn.ReLU(),\n",
    "            nn.Linear(512, 10)\n",
    "        )\n",
    "    def forward(self,x):\n",
    "        x= self.flatten(x)\n",
    "        logits = nn.functional.softmax(self.linear_relu_stack(x))\n",
    "        return logits\n",
    "\n",
    "model = NeuralNetwork().to(device)\n",
    "print(model)\n",
    "\n"
   ]
  },
  {
   "cell_type": "code",
   "execution_count": 6,
   "metadata": {},
   "outputs": [],
   "source": [
    "loss_fn = nn.CrossEntropyLoss()\n",
    "optimizer = torch.optim.SGD(model.parameters(), lr=1e-3)"
   ]
  },
  {
   "cell_type": "code",
   "execution_count": 7,
   "metadata": {},
   "outputs": [],
   "source": [
    "def real_train(dataloader, model, loss_fn, optimizer):\n",
    "    size = len(dataloader.dataset)\n",
    "    model.train()\n",
    "    for batch, (X, y) in enumerate(dataloader):\n",
    "        X, y = X.to(device), y.to(device)\n",
    "\n",
    "        # Compute prediction error\n",
    "        pred = model(X)\n",
    "        loss = loss_fn(pred, y)\n",
    "\n",
    "        # Backpropagation\n",
    "        optimizer.zero_grad()\n",
    "        loss.backward()\n",
    "        optimizer.step()\n",
    "\n",
    "        if batch % 100 == 0:\n",
    "            loss, current = loss.item(), (batch + 1) * len(X)\n",
    "            print(f\"loss: {loss:>7f}  [{current:>5d}/{size:>5d}]\")"
   ]
  },
  {
   "cell_type": "code",
   "execution_count": 8,
   "metadata": {},
   "outputs": [
    {
     "name": "stdout",
     "output_type": "stream",
     "text": [
      "torch.Size([64, 1, 28, 28])\n",
      "torch.Size([64, 1, 28, 28])\n"
     ]
    }
   ],
   "source": [
    "for (X,y),(X1,y1) in zip(train_dataloader1, train_dataloader2):\n",
    "    print(X.shape)\n",
    "    print(X1.shape)\n",
    "    break"
   ]
  },
  {
   "cell_type": "code",
   "execution_count": 9,
   "metadata": {},
   "outputs": [],
   "source": [
    "def train(dataloader1, dataloader2, model, loss_fn, optimizer):\n",
    "    size1 = len(dataloader1.dataset)\n",
    "    size2 = len(dataloader2.dataset)\n",
    "    model.train()\n",
    "    for batch, ((X,y),(X1,y1)) in enumerate(zip(dataloader1, dataloader2)):\n",
    "        X, y = X.to(device), y.to(device)\n",
    "        X1 = X1.to(device)\n",
    "        # prediction 1\n",
    "        pred1 = model(X)\n",
    "        pred2 = model(X1)  # with label\n",
    "        loss = loss_fn(pred1, y)\n",
    "        # Backpropagation 1\n",
    "        optimizer.zero_grad()\n",
    "        loss.backward(retain_graph=True)\n",
    "\n",
    "        # prediction 2\n",
    "        pred3 = model(X1)  # without label\n",
    "        loss2 = loss_fn(pred2, pred3)\n",
    "        # Backpropagation 2\n",
    "        loss2.backward()\n",
    "\n",
    "        optimizer.step()\n",
    "        if batch % 100 == 0:\n",
    "            loss, current = loss.item(), (batch+1)*len(X)\n",
    "            print('for X')\n",
    "            print(f\"loss: {loss} [{current:>5d}/{size1:>5d}]\")\n",
    "        if batch % 100 == 0:\n",
    "            loss2, current = loss2.item(), (batch+1)*len(X1)\n",
    "            print('for X1')\n",
    "            print(f\"loss: {loss2} [{current:>5d}/{size2:>5d}]\")\n"
   ]
  },
  {
   "cell_type": "code",
   "execution_count": 194,
   "metadata": {},
   "outputs": [],
   "source": [
    "def train2(dataloader, model,loss_fn,optimizer):\n",
    "    size = len(dataloader.dataset)\n",
    "    print(size)\n",
    "    model.train()\n",
    "    for batch, (X,y) in enumerate(dataloader):\n",
    "        X,y = X.to(device), y.to(device)\n",
    "        pred = model(X)\n",
    "        print(pred)\n",
    "        loss = loss_fn(pred,y)\n",
    "        optimizer.zero_grad()\n",
    "        loss.backward()\n",
    "        optimizer.step()\n",
    "        break\n",
    "        "
   ]
  },
  {
   "cell_type": "code",
   "execution_count": 10,
   "metadata": {},
   "outputs": [],
   "source": [
    "def test(dataloader, model, loss_fn):\n",
    "    size = len(dataloader.dataset)\n",
    "    num_batches = len(dataloader)\n",
    "    model.eval()\n",
    "    test_loss, correct = 0, 0\n",
    "    with torch.no_grad():\n",
    "        for X, y in dataloader:\n",
    "            X, y = X.to(device), y.to(device)\n",
    "            pred = model(X)\n",
    "            test_loss += loss_fn(pred, y).item()\n",
    "            correct += (pred.argmax(1) == y).type(torch.float).sum().item()\n",
    "    test_loss /= num_batches\n",
    "    correct /= size\n",
    "    print(f\"Test Error: \\n Accuracy: {(100*correct):>0.1f}%, Avg loss: {test_loss:>8f} \\n\")"
   ]
  },
  {
   "cell_type": "code",
   "execution_count": 15,
   "metadata": {},
   "outputs": [
    {
     "name": "stdout",
     "output_type": "stream",
     "text": [
      "Epoch 1\n",
      "----------------------------------\n",
      "loss: 2.302665  [   64/30000]\n"
     ]
    },
    {
     "name": "stderr",
     "output_type": "stream",
     "text": [
      "/tmp/ipykernel_28884/3805330871.py:14: UserWarning: Implicit dimension choice for softmax has been deprecated. Change the call to include dim=X as an argument.\n",
      "  logits = nn.functional.softmax(self.linear_relu_stack(x))\n"
     ]
    },
    {
     "name": "stdout",
     "output_type": "stream",
     "text": [
      "loss: 2.301972  [ 6464/30000]\n",
      "loss: 2.301989  [12864/30000]\n",
      "loss: 2.302199  [19264/30000]\n",
      "loss: 2.302210  [25664/30000]\n",
      "Test Error: \n",
      " Accuracy: 13.6%, Avg loss: 2.302178 \n",
      "\n",
      "Epoch 2\n",
      "----------------------------------\n",
      "loss: 2.302665  [   64/30000]\n",
      "loss: 2.301972  [ 6464/30000]\n",
      "loss: 2.301989  [12864/30000]\n",
      "loss: 2.302199  [19264/30000]\n",
      "loss: 2.302210  [25664/30000]\n",
      "Test Error: \n",
      " Accuracy: 13.6%, Avg loss: 2.302178 \n",
      "\n",
      "Epoch 3\n",
      "----------------------------------\n",
      "loss: 2.302665  [   64/30000]\n",
      "loss: 2.301972  [ 6464/30000]\n",
      "loss: 2.301989  [12864/30000]\n",
      "loss: 2.302199  [19264/30000]\n",
      "loss: 2.302210  [25664/30000]\n",
      "Test Error: \n",
      " Accuracy: 13.6%, Avg loss: 2.302178 \n",
      "\n",
      "Epoch 4\n",
      "----------------------------------\n",
      "loss: 2.302665  [   64/30000]\n",
      "loss: 2.301972  [ 6464/30000]\n",
      "loss: 2.301989  [12864/30000]\n",
      "loss: 2.302199  [19264/30000]\n",
      "loss: 2.302210  [25664/30000]\n",
      "Test Error: \n",
      " Accuracy: 13.6%, Avg loss: 2.302178 \n",
      "\n",
      "Epoch 5\n",
      "----------------------------------\n",
      "loss: 2.302665  [   64/30000]\n",
      "loss: 2.301972  [ 6464/30000]\n",
      "loss: 2.301989  [12864/30000]\n",
      "loss: 2.302199  [19264/30000]\n",
      "loss: 2.302210  [25664/30000]\n",
      "Test Error: \n",
      " Accuracy: 13.6%, Avg loss: 2.302178 \n",
      "\n",
      "done!\n"
     ]
    }
   ],
   "source": [
    "epochs = 5\n",
    "for t in range(epochs):\n",
    "    print(f\"Epoch {t+1}\\n----------------------------------\")\n",
    "    # train(train_dataloader1, train_dataloader2, model, loss_fn, optimizer)\n",
    "    real_train(train_dataloader1, model,loss_fn,optimizer)\n",
    "    test(test_dataloader, model, loss_fn)\n",
    "print(\"done!\")\n"
   ]
  },
  {
   "attachments": {},
   "cell_type": "markdown",
   "metadata": {},
   "source": [
    "Saving models"
   ]
  },
  {
   "cell_type": "code",
   "execution_count": 39,
   "metadata": {},
   "outputs": [
    {
     "name": "stdout",
     "output_type": "stream",
     "text": [
      "Saved Pytorch Model State to model.pth\n"
     ]
    }
   ],
   "source": [
    "torch.save(model.state_dict(),\"./models/model.pth\")\n",
    "print(\"Saved Pytorch Model State to model.pth\")"
   ]
  },
  {
   "attachments": {},
   "cell_type": "markdown",
   "metadata": {},
   "source": [
    "Loading models"
   ]
  },
  {
   "cell_type": "code",
   "execution_count": 41,
   "metadata": {},
   "outputs": [
    {
     "data": {
      "text/plain": [
       "<All keys matched successfully>"
      ]
     },
     "execution_count": 41,
     "metadata": {},
     "output_type": "execute_result"
    }
   ],
   "source": [
    "model = NeuralNetwork()\n",
    "model.load_state_dict(torch.load(\"./models/model.pth\"))"
   ]
  },
  {
   "cell_type": "code",
   "execution_count": 45,
   "metadata": {},
   "outputs": [
    {
     "name": "stdout",
     "output_type": "stream",
     "text": [
      "Predicted: \"Ankle boot\", Actual: \"Ankle boot\"\n"
     ]
    }
   ],
   "source": [
    "classes = [\n",
    "    \"T-shirt/top\",\n",
    "    \"Trouser\",\n",
    "    \"Pullover\",\n",
    "    \"Dress\",\n",
    "    \"Coat\",\n",
    "    \"Sandal\",\n",
    "    \"Shirt\",\n",
    "    \"Sneaker\",\n",
    "    \"Bag\",\n",
    "    \"Ankle boot\"\n",
    "]\n",
    "model.eval()\n",
    "x,y = test_data[0][0], test_data[0][1]\n",
    "with torch.no_grad():\n",
    "    pred = model(x)\n",
    "    predicted, actual = classes[pred[0].argmax(0)], classes[y]\n",
    "    print(f'Predicted: \"{predicted}\", Actual: \"{actual}\"')"
   ]
  }
 ],
 "metadata": {
  "kernelspec": {
   "display_name": "Python 3",
   "language": "python",
   "name": "python3"
  },
  "language_info": {
   "codemirror_mode": {
    "name": "ipython",
    "version": 3
   },
   "file_extension": ".py",
   "mimetype": "text/x-python",
   "name": "python",
   "nbconvert_exporter": "python",
   "pygments_lexer": "ipython3",
   "version": "3.10.6"
  },
  "orig_nbformat": 4
 },
 "nbformat": 4,
 "nbformat_minor": 2
}
